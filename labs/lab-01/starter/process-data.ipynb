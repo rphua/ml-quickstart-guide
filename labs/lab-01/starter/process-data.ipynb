{
 "nbformat": 4,
 "nbformat_minor": 2,
 "metadata": {
  "language_info": {
   "name": "python",
   "codemirror_mode": {
    "name": "ipython",
    "version": 3
   }
  },
  "orig_nbformat": 2,
  "file_extension": ".py",
  "mimetype": "text/x-python",
  "name": "python",
  "npconvert_exporter": "python",
  "pygments_lexer": "ipython3",
  "version": 3,
  "kernelspec": {
   "name": "python37464bitbasecondade4e9c9becfb456e97fa132c2046016c",
   "display_name": "Python 3.7.4 64-bit ('base': conda)"
  }
 },
 "cells": [
  {
   "cell_type": "markdown",
   "metadata": {},
   "source": [
    "# LAB 1 - Exploring data with numpy and pandas\n",
    "\n",
    "In this lab we'll explore how to use pandas and numpy to analyse and process data.\n",
    "We'll start with numpy and learn how to work with arrays. Then, we'll move on to pandas to learn about some basic pandas features"
   ]
  },
  {
   "cell_type": "markdown",
   "metadata": {},
   "source": [
    "## Part 1: Working with data in numpy\n",
    "\n",
    "In this first part, we'll perform some basic mathematical operations on data\n",
    "using numpy. We'll look at:\n",
    "\n",
    "* Loading arrays\n",
    "* Inspecting arrays\n",
    "* Array broadcasting and mathematics\n",
    "* Combining arrays"
   ]
  },
  {
   "cell_type": "code",
   "execution_count": 3,
   "metadata": {},
   "outputs": [],
   "source": [
    "import numpy as np"
   ]
  },
  {
   "cell_type": "markdown",
   "metadata": {},
   "source": [
    "### Step 1: Loading arrays\n",
    "\n",
    "In this step we'll load a couple of arrays that we're going to work on. For the purpose of this lab we've stored a couple of numpy arrays on disk. You can load the numpy arrays into memory using the `load` function that is available in the `numpy` module. \n",
    "\n",
    "Use the [load](https://numpy.org/doc/1.18/reference/generated/numpy.load.html?highlight=load#numpy.load) function from the numpy module to load the file `../data/population.npy` and save it to the `population` variable."
   ]
  },
  {
   "cell_type": "code",
   "execution_count": null,
   "metadata": {},
   "outputs": [],
   "source": []
  },
  {
   "cell_type": "markdown",
   "metadata": {},
   "source": [
    "Next, load the file `../data/employment.npy` and assign it to the `employment` variable."
   ]
  },
  {
   "cell_type": "code",
   "execution_count": null,
   "metadata": {},
   "outputs": [],
   "source": []
  },
  {
   "cell_type": "markdown",
   "metadata": {},
   "source": [
    "### Step 2: Inspecting arrays\n",
    "\n",
    "Now that we've loaded the numpy arrays from disk, let's inspect them to make sure that they're loaded correctly. The `population` array should contain 195 rows. The `employment` array should have the same number of rows. Both arrays should have a shape of (195,) meaning they're 1-D arrays.\n",
    "\n",
    "Use the [shape](https://numpy.org/doc/1.18/reference/generated/numpy.ndarray.shape.html?highlight=shape#numpy.ndarray.shape) attribute on the arrays to check the format of the `population` and `employment` arrays.\n"
   ]
  },
  {
   "cell_type": "code",
   "execution_count": null,
   "metadata": {},
   "outputs": [],
   "source": []
  },
  {
   "cell_type": "markdown",
   "metadata": {},
   "source": [
    "### Step 3: Array broadcasting\n",
    "\n",
    "The `population` array contains population data for a set of countries, while the `employment` array contains data about employment percentage per country. If we want to calculate the number of people employed per country, we need to multiply the `employment` array with the `population` array.\n",
    "\n",
    "Note, the value in the `employment` is between `0` and `100`. You can verify this using the `min()` and `max()` method on the `employment` array. Make sure that you compensate for this by dividing the `employment` array by `100`.\n",
    "\n",
    "Calculate the `absolute_employed` array using the `population` and `employment` array."
   ]
  },
  {
   "cell_type": "code",
   "execution_count": null,
   "metadata": {},
   "outputs": [],
   "source": []
  },
  {
   "cell_type": "markdown",
   "metadata": {},
   "source": [
    "### Step 4: Combining arrays\n",
    "\n",
    "Now that we've calculated the absolute employment figures per country, we can combine all arrays into a single array using the [concatenate](https://numpy.org/doc/1.18/reference/generated/numpy.concatenate.html?highlight=concatenate#numpy.concatenate) function.\n",
    "\n",
    "Before you can concatenate the arrays, you need to make sure that they're stored as 2D-arrays instead of 1D-arrays. You can reshape the arrays using the [reshape](https://numpy.org/doc/1.18/reference/generated/numpy.ndarray.reshape.html?highlight=reshape#numpy.ndarray.reshape) method that's available on the `population` and `employment` arrays. Make sure you specify `(-1,1)` as input for the `reshape` method. This allows numpy to dynamically determine the number of rows in the array based on what it currently contains.\n",
    "\n",
    "Reshape the arrays so they're of shape `(-1, 1)`"
   ]
  },
  {
   "cell_type": "code",
   "execution_count": null,
   "metadata": {},
   "outputs": [],
   "source": []
  },
  {
   "cell_type": "markdown",
   "metadata": {},
   "source": [
    "Next, concatenate the arrays using the [concatenate](https://numpy.org/doc/1.18/reference/generated/numpy.concatenate.html?highlight=concatenate#numpy.concatenate) Use `axis=1` as the second argument so the arrays are concatenated column-wise."
   ]
  },
  {
   "cell_type": "code",
   "execution_count": null,
   "metadata": {},
   "outputs": [],
   "source": [
    "Now that youve"
   ]
  },
  {
   "cell_type": "markdown",
   "metadata": {},
   "source": [
    "## Part 2: Process data using pandas\n",
    "\n",
    "In the previous part, we've looked at using numpy to process data. This has some limitations:\n",
    "\n",
    "* An array can contain only one type\n",
    "* You can't label rows and columns\n",
    "\n",
    "In this part we're going to use pandas instead of numpy. You'll learn how pandas makes processing tables of data a lot easier compared to numpy.\n",
    "We'll cover the following topics in this part:\n",
    "\n",
    "* Loading data\n",
    "* Inspecting data frames\n",
    "* Combining data frames\n",
    "* Basic calculations using data frames"
   ]
  },
  {
   "cell_type": "code",
   "execution_count": 5,
   "metadata": {},
   "outputs": [],
   "source": [
    "import pandas as pd"
   ]
  },
  {
   "cell_type": "markdown",
   "metadata": {},
   "source": [
    "### Step 1: Loading data\n",
    "\n",
    "Use the [read_csv](https://pandas.pydata.org/pandas-docs/stable/reference/api/pandas.read_csv.html) function in pandas to read the file `../data/employment_rate.csv` and store it in a variable `df_employment`. "
   ]
  },
  {
   "cell_type": "code",
   "execution_count": null,
   "metadata": {},
   "outputs": [],
   "source": []
  },
  {
   "cell_type": "markdown",
   "metadata": {},
   "source": [
    "When you've loaded the employment rate data, load the file `../data/population.csv` and store it in a variable `df_population`."
   ]
  },
  {
   "cell_type": "code",
   "execution_count": null,
   "metadata": {},
   "outputs": [],
   "source": []
  },
  {
   "cell_type": "markdown",
   "metadata": {},
   "source": [
    "### Step 2: Inspecting data frames\n",
    "\n",
    "Now that we've loaded the data, let's inspect what we've loaded from disk. Use the [info](https://pandas.pydata.org/pandas-docs/stable/reference/api/pandas.DataFrame.info.html?highlight=info#pandas.DataFrame.info) method on the `df_population` and `df_employment` data frames to inspect them."
   ]
  },
  {
   "cell_type": "code",
   "execution_count": null,
   "metadata": {},
   "outputs": [],
   "source": []
  },
  {
   "cell_type": "markdown",
   "metadata": {},
   "source": [
    "### Step 3: Combining data frames\n",
    "\n",
    "Now that we've got the datasets loaded from disk, let's combine them into a single data frame.\n",
    "For this, we need to perform an important translation to the data frame.\n",
    "\n",
    "From inspecting the data frame, you should have seen that each year is stored as a column in the data frame.\n",
    "If we were to merge the data frames now, it wouldn't work, because the columns overlap.\n",
    "\n",
    "We can fix this by using the [melt](https://pandas.pydata.org/pandas-docs/stable/reference/api/pandas.melt.html) method on the data frames to turn the year columns into values per row. \n",
    "\n",
    "Use the `melt` method on `df_population` with the following arguments:\n",
    "\n",
    "* `id_vars=[country]` - Leaves the countries as they are\n",
    "* `var_name='year'` - Creates a column year, containing the original column names\n",
    "* `value_name='population'` - Creates a new column `population` that stores the values that were stored in the columns that we melted\n",
    "\n",
    "Store the result in df_population_melted"
   ]
  },
  {
   "cell_type": "code",
   "execution_count": null,
   "metadata": {},
   "outputs": [],
   "source": [
    "df_population.melt(id_vars=['country'], var_name='year', value_name='population')"
   ]
  },
  {
   "cell_type": "markdown",
   "metadata": {},
   "source": [
    "Repeat the process for the `df_employment` data frame with the following arguments:\n",
    "\n",
    "* `id_vars='country'` - Leaves the countries as they are\n",
    "* `var_name='year'` - Creates a column year containing the original column names for the years\n",
    "* `value_name='employment_rate'` - Creates a new column `employment_rate` that stores the values that were stored in the columns that we melted\n",
    "\n",
    "Store the result in `df_employment_melted`"
   ]
  },
  {
   "cell_type": "code",
   "execution_count": null,
   "metadata": {},
   "outputs": [],
   "source": []
  },
  {
   "cell_type": "markdown",
   "metadata": {},
   "source": [
    "Now that we've converted the pivoted data frames into unpivoted versions of the same data frames we can join them using the [merge](https://pandas.pydata.org/pandas-docs/stable/reference/api/pandas.DataFrame.merge.html?highlight=merge#pandas.DataFrame.merge) function.\n",
    "\n",
    "Using the `merge` function, combine the data frames. In addition to the data frames, use the following arguments \n",
    "\n",
    "* `on=['year','country']` - Joins the data frames on the combination of year and country.\n",
    "\n",
    "Store the result in the `df_output` variable."
   ]
  },
  {
   "cell_type": "code",
   "execution_count": null,
   "metadata": {},
   "outputs": [],
   "source": []
  },
  {
   "cell_type": "markdown",
   "metadata": {},
   "source": [
    "### Step 4: Basic calculations using data frames\n",
    "\n",
    "Once we've merged the data frames we can calculate the `absolute_employment` column. Multiply the `population` and `employment_rate` columns and store them in the `absolute_employment` column.\n",
    "\n",
    "**Tip** You can select a column using `df['col_name']`. \n",
    "\n",
    "**Tip** You can create a new column using the same technique"
   ]
  },
  {
   "cell_type": "code",
   "execution_count": null,
   "metadata": {},
   "outputs": [],
   "source": []
  },
  {
   "cell_type": "markdown",
   "metadata": {},
   "source": [
    "As a bonus, use the `set_index` method on `df_output` to turn the `country` column into the index of the data frame."
   ]
  },
  {
   "cell_type": "code",
   "execution_count": null,
   "metadata": {},
   "outputs": [],
   "source": []
  }
 ]
}