{
 "cells": [
  {
   "cell_type": "markdown",
   "metadata": {},
   "source": [
    "# Predict the miles per gallon for a car\n",
    "In this lab you'll be building a model to predict the miles per gallon for a car.\n",
    "The lab is based on a open dataset from [the UCI machine learning database](https://archive.ics.uci.edu/ml/index.php). \n",
    "\n",
    "At the end of this lab you'll have a working model that you can deploy and use.\n",
    "Follow the steps in this lab to train the model.\n",
    "\n",
    "We'll cover the following topics:\n",
    "\n",
    "* Loading data\n",
    "* Preparing the data\n",
    "* Training a linear regression model\n",
    "* Using metrics for validation"
   ]
  },
  {
   "cell_type": "markdown",
   "metadata": {},
   "source": [
    "## Step 1: Loading data\n",
    "The first step in the process of building the model is to load the data from disk. \n",
    "The data is contained in a file called `auto-mpg.csv`. \n",
    "\n",
    "Use the pandas function [read_csv](https://pandas.pydata.org/pandas-docs/stable/generated/pandas.read_csv.html) to load the data and store it in a variable `df_milage`."
   ]
  },
  {
   "cell_type": "code",
   "execution_count": 2,
   "metadata": {},
   "outputs": [],
   "source": [
    "import pandas as pd"
   ]
  },
  {
   "cell_type": "code",
   "execution_count": 6,
   "metadata": {},
   "outputs": [],
   "source": [
    "df_milage = pd.read_csv('auto-mpg.csv', na_values=['?'])\n",
    "df_milage = df_milage.dropna()\n",
    "\n",
    "df_milage.to_csv('auto-mpg.csv', index=None)"
   ]
  },
  {
   "cell_type": "markdown",
   "metadata": {},
   "source": [
    "## Step 2: Verify the data \n",
    "Linear regression models work because they are based on the assumption that there's a correlation between the input variables you choose and the output that you want to predict. So before we actually build the model, we need to select features that are correlated to the MPG value of a car.\n",
    "\n",
    "First step is to look at the correlation between the inputs and the outputs. A good way to see correlations between the input features and the output is to make a correlation heatmap.\n",
    "\n",
    "Use the [corr](http://pandas.pydata.org/pandas-docs/version/0.23/generated/pandas.DataFrame.corr.html) method on your dataframe to calculate the pearson correlation coefficient. Then use the [heatmap](https://seaborn.pydata.org/generated/seaborn.heatmap.html) function from the seaborn package to visualize the heatmap for the correlations."
   ]
  },
  {
   "cell_type": "code",
   "execution_count": 1,
   "metadata": {},
   "outputs": [],
   "source": [
    "import matplotlib.pyplot as plt\n",
    "import seaborn as sns"
   ]
  },
  {
   "cell_type": "code",
   "execution_count": null,
   "metadata": {},
   "outputs": [],
   "source": []
  },
  {
   "cell_type": "markdown",
   "metadata": {},
   "source": [
    "Which correlations looks strong and could be useful features for our model? "
   ]
  },
  {
   "cell_type": "markdown",
   "metadata": {},
   "source": [
    "## Step 3: Preparing the data\n",
    "\n",
    "For this regression problem we are going to build a Linear Regression Model. \n",
    "First, we need to select our input features and our output target.\n",
    "\n",
    "Select the `MPG` column from the `df_milage` data frame and store it in the variable `y`."
   ]
  },
  {
   "cell_type": "code",
   "execution_count": null,
   "metadata": {},
   "outputs": [],
   "source": []
  },
  {
   "cell_type": "markdown",
   "metadata": {},
   "source": [
    "Next, select the other columns in the `df_milage` data frame and store them in the variable `X`."
   ]
  },
  {
   "cell_type": "code",
   "execution_count": null,
   "metadata": {},
   "outputs": [],
   "source": []
  },
  {
   "cell_type": "markdown",
   "metadata": {},
   "source": [
    "Then, we need to create a training and validation set.\n",
    "The training set will be used to train the model to predict miles per gallon.\n",
    "The validation set is later used to make sure our model isn't just remembering the values it has seen.\n",
    "\n",
    "Use the [train_test_split](https://scikit-learn.org/stable/modules/generated/sklearn.model_selection.train_test_split.html) function to split the data frames `X` and `y` into a training and test set."
   ]
  },
  {
   "cell_type": "code",
   "execution_count": 1,
   "metadata": {},
   "outputs": [],
   "source": [
    "from sklearn.model_selection import train_test_split"
   ]
  },
  {
   "cell_type": "code",
   "execution_count": null,
   "metadata": {},
   "outputs": [],
   "source": []
  },
  {
   "cell_type": "markdown",
   "metadata": {},
   "source": [
    "## Step 4: Training a linear regression model\n",
    "\n",
    "Now that we have our data preprared, we're ready to train a model. If we want to predict the miles per gallon for a car, we're going to have to train a linear regression model. Use the [LinearRegression](https://scikit-learn.org/stable/modules/linear_model.html#ordinary-least-squares) class and train a linear regression model using the training set you just created."
   ]
  },
  {
   "cell_type": "code",
   "execution_count": 2,
   "metadata": {},
   "outputs": [],
   "source": [
    "from sklearn.linear_model import LinearRegression"
   ]
  },
  {
   "cell_type": "code",
   "execution_count": null,
   "metadata": {},
   "outputs": [],
   "source": []
  },
  {
   "cell_type": "markdown",
   "metadata": {},
   "source": [
    "## Step 5 : Using metrics for validation\n",
    "Now that you have a model it is important to test whether the model fits the data well enough. For this we're going to use the `score` method on the model that you've trained. This returns [the R-squared score](http://blog.minitab.com/blog/adventures-in-statistics-2/regression-analysis-how-do-i-interpret-r-squared-and-assess-the-goodness-of-fit). This score expresses how well the observations fit the line you've trained."
   ]
  },
  {
   "cell_type": "code",
   "execution_count": null,
   "metadata": {},
   "outputs": [],
   "source": []
  }
 ],
 "metadata": {
  "kernelspec": {
   "display_name": "Python 3",
   "language": "python",
   "name": "python3"
  },
  "language_info": {
   "codemirror_mode": {
    "name": "ipython",
    "version": 3
   },
   "file_extension": ".py",
   "mimetype": "text/x-python",
   "name": "python",
   "nbconvert_exporter": "python",
   "pygments_lexer": "ipython3",
   "version": "3.7.1"
  }
 },
 "nbformat": 4,
 "nbformat_minor": 2
}